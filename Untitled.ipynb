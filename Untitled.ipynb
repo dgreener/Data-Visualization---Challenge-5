{
 "cells": [
  {
   "cell_type": "code",
   "execution_count": 2,
   "id": "cc14c4eb",
   "metadata": {},
   "outputs": [
    {
     "name": "stdout",
     "output_type": "stream",
     "text": [
      "{'statusCode': 401, 'error': 'Unauthorized', 'message': 'Invalid apiKey'}\n"
     ]
    }
   ],
   "source": [
    "import requests\n",
    "\n",
    "url = \"https://api.geoapify.com/v1/geocode/search?text=40%20chalet%20circle%2C%20rochester%2C%20ny%2014618&lang=en&limit=1&type=street&format=json&apiKey=YOUR_API_KEY\"\n",
    "          \n",
    "response = requests.get(url)\n",
    "print(response.json())\n",
    "\n",
    "\n"
   ]
  },
  {
   "cell_type": "code",
   "execution_count": null,
   "id": "e6ed7aa7",
   "metadata": {},
   "outputs": [],
   "source": []
  }
 ],
 "metadata": {
  "kernelspec": {
   "display_name": "Python 3 (ipykernel)",
   "language": "python",
   "name": "python3"
  },
  "language_info": {
   "codemirror_mode": {
    "name": "ipython",
    "version": 3
   },
   "file_extension": ".py",
   "mimetype": "text/x-python",
   "name": "python",
   "nbconvert_exporter": "python",
   "pygments_lexer": "ipython3",
   "version": "3.10.9"
  }
 },
 "nbformat": 4,
 "nbformat_minor": 5
}
